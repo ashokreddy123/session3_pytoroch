{
  "nbformat": 4,
  "nbformat_minor": 0,
  "metadata": {
    "colab": {
      "name": "session3_assignment_GPU.ipynb",
      "provenance": [],
      "collapsed_sections": [],
      "authorship_tag": "ABX9TyNgY9aUJi07zaGvF8d2Huh+",
      "include_colab_link": true
    },
    "kernelspec": {
      "name": "python3",
      "display_name": "Python 3"
    },
    "language_info": {
      "name": "python"
    },
    "accelerator": "GPU",
    "widgets": {
      "application/vnd.jupyter.widget-state+json": {
        "721139094b374130940d6cb5ad715996": {
          "model_module": "@jupyter-widgets/controls",
          "model_name": "HBoxModel",
          "state": {
            "_view_name": "HBoxView",
            "_dom_classes": [],
            "_model_name": "HBoxModel",
            "_view_module": "@jupyter-widgets/controls",
            "_model_module_version": "1.5.0",
            "_view_count": null,
            "_view_module_version": "1.5.0",
            "box_style": "",
            "layout": "IPY_MODEL_4d82a87259ae427a8786d37f71977b09",
            "_model_module": "@jupyter-widgets/controls",
            "children": [
              "IPY_MODEL_f7123f09a16b43dab588173c52091761",
              "IPY_MODEL_d8681cc0345d49fd869836249aad3f10"
            ]
          }
        },
        "4d82a87259ae427a8786d37f71977b09": {
          "model_module": "@jupyter-widgets/base",
          "model_name": "LayoutModel",
          "state": {
            "_view_name": "LayoutView",
            "grid_template_rows": null,
            "right": null,
            "justify_content": null,
            "_view_module": "@jupyter-widgets/base",
            "overflow": null,
            "_model_module_version": "1.2.0",
            "_view_count": null,
            "flex_flow": null,
            "width": null,
            "min_width": null,
            "border": null,
            "align_items": null,
            "bottom": null,
            "_model_module": "@jupyter-widgets/base",
            "top": null,
            "grid_column": null,
            "overflow_y": null,
            "overflow_x": null,
            "grid_auto_flow": null,
            "grid_area": null,
            "grid_template_columns": null,
            "flex": null,
            "_model_name": "LayoutModel",
            "justify_items": null,
            "grid_row": null,
            "max_height": null,
            "align_content": null,
            "visibility": null,
            "align_self": null,
            "height": null,
            "min_height": null,
            "padding": null,
            "grid_auto_rows": null,
            "grid_gap": null,
            "max_width": null,
            "order": null,
            "_view_module_version": "1.2.0",
            "grid_template_areas": null,
            "object_position": null,
            "object_fit": null,
            "grid_auto_columns": null,
            "margin": null,
            "display": null,
            "left": null
          }
        },
        "f7123f09a16b43dab588173c52091761": {
          "model_module": "@jupyter-widgets/controls",
          "model_name": "FloatProgressModel",
          "state": {
            "_view_name": "ProgressView",
            "style": "IPY_MODEL_54c90d9d2b97460daef37f902732754c",
            "_dom_classes": [],
            "description": "",
            "_model_name": "FloatProgressModel",
            "bar_style": "success",
            "max": 26421880,
            "_view_module": "@jupyter-widgets/controls",
            "_model_module_version": "1.5.0",
            "value": 26421880,
            "_view_count": null,
            "_view_module_version": "1.5.0",
            "orientation": "horizontal",
            "min": 0,
            "description_tooltip": null,
            "_model_module": "@jupyter-widgets/controls",
            "layout": "IPY_MODEL_c26b992afac44c23b9609738fc288eb9"
          }
        },
        "d8681cc0345d49fd869836249aad3f10": {
          "model_module": "@jupyter-widgets/controls",
          "model_name": "HTMLModel",
          "state": {
            "_view_name": "HTMLView",
            "style": "IPY_MODEL_0e89cb45c4ce439ca15703ad88564d54",
            "_dom_classes": [],
            "description": "",
            "_model_name": "HTMLModel",
            "placeholder": "​",
            "_view_module": "@jupyter-widgets/controls",
            "_model_module_version": "1.5.0",
            "value": " 26422272/? [05:58&lt;00:00, 73602.57it/s]",
            "_view_count": null,
            "_view_module_version": "1.5.0",
            "description_tooltip": null,
            "_model_module": "@jupyter-widgets/controls",
            "layout": "IPY_MODEL_2038e7286fc748529d088a7a1bf863d1"
          }
        },
        "54c90d9d2b97460daef37f902732754c": {
          "model_module": "@jupyter-widgets/controls",
          "model_name": "ProgressStyleModel",
          "state": {
            "_view_name": "StyleView",
            "_model_name": "ProgressStyleModel",
            "description_width": "initial",
            "_view_module": "@jupyter-widgets/base",
            "_model_module_version": "1.5.0",
            "_view_count": null,
            "_view_module_version": "1.2.0",
            "bar_color": null,
            "_model_module": "@jupyter-widgets/controls"
          }
        },
        "c26b992afac44c23b9609738fc288eb9": {
          "model_module": "@jupyter-widgets/base",
          "model_name": "LayoutModel",
          "state": {
            "_view_name": "LayoutView",
            "grid_template_rows": null,
            "right": null,
            "justify_content": null,
            "_view_module": "@jupyter-widgets/base",
            "overflow": null,
            "_model_module_version": "1.2.0",
            "_view_count": null,
            "flex_flow": null,
            "width": null,
            "min_width": null,
            "border": null,
            "align_items": null,
            "bottom": null,
            "_model_module": "@jupyter-widgets/base",
            "top": null,
            "grid_column": null,
            "overflow_y": null,
            "overflow_x": null,
            "grid_auto_flow": null,
            "grid_area": null,
            "grid_template_columns": null,
            "flex": null,
            "_model_name": "LayoutModel",
            "justify_items": null,
            "grid_row": null,
            "max_height": null,
            "align_content": null,
            "visibility": null,
            "align_self": null,
            "height": null,
            "min_height": null,
            "padding": null,
            "grid_auto_rows": null,
            "grid_gap": null,
            "max_width": null,
            "order": null,
            "_view_module_version": "1.2.0",
            "grid_template_areas": null,
            "object_position": null,
            "object_fit": null,
            "grid_auto_columns": null,
            "margin": null,
            "display": null,
            "left": null
          }
        },
        "0e89cb45c4ce439ca15703ad88564d54": {
          "model_module": "@jupyter-widgets/controls",
          "model_name": "DescriptionStyleModel",
          "state": {
            "_view_name": "StyleView",
            "_model_name": "DescriptionStyleModel",
            "description_width": "",
            "_view_module": "@jupyter-widgets/base",
            "_model_module_version": "1.5.0",
            "_view_count": null,
            "_view_module_version": "1.2.0",
            "_model_module": "@jupyter-widgets/controls"
          }
        },
        "2038e7286fc748529d088a7a1bf863d1": {
          "model_module": "@jupyter-widgets/base",
          "model_name": "LayoutModel",
          "state": {
            "_view_name": "LayoutView",
            "grid_template_rows": null,
            "right": null,
            "justify_content": null,
            "_view_module": "@jupyter-widgets/base",
            "overflow": null,
            "_model_module_version": "1.2.0",
            "_view_count": null,
            "flex_flow": null,
            "width": null,
            "min_width": null,
            "border": null,
            "align_items": null,
            "bottom": null,
            "_model_module": "@jupyter-widgets/base",
            "top": null,
            "grid_column": null,
            "overflow_y": null,
            "overflow_x": null,
            "grid_auto_flow": null,
            "grid_area": null,
            "grid_template_columns": null,
            "flex": null,
            "_model_name": "LayoutModel",
            "justify_items": null,
            "grid_row": null,
            "max_height": null,
            "align_content": null,
            "visibility": null,
            "align_self": null,
            "height": null,
            "min_height": null,
            "padding": null,
            "grid_auto_rows": null,
            "grid_gap": null,
            "max_width": null,
            "order": null,
            "_view_module_version": "1.2.0",
            "grid_template_areas": null,
            "object_position": null,
            "object_fit": null,
            "grid_auto_columns": null,
            "margin": null,
            "display": null,
            "left": null
          }
        },
        "ab34f9d0e86241398c7d6fe74cacb037": {
          "model_module": "@jupyter-widgets/controls",
          "model_name": "HBoxModel",
          "state": {
            "_view_name": "HBoxView",
            "_dom_classes": [],
            "_model_name": "HBoxModel",
            "_view_module": "@jupyter-widgets/controls",
            "_model_module_version": "1.5.0",
            "_view_count": null,
            "_view_module_version": "1.5.0",
            "box_style": "",
            "layout": "IPY_MODEL_e47d035cfcfa49e3bc65ded44dda5853",
            "_model_module": "@jupyter-widgets/controls",
            "children": [
              "IPY_MODEL_53dcb79a0b304be3b557e914a2f1a8bd",
              "IPY_MODEL_2a6051e2e82e41be8995cddf35c854f6"
            ]
          }
        },
        "e47d035cfcfa49e3bc65ded44dda5853": {
          "model_module": "@jupyter-widgets/base",
          "model_name": "LayoutModel",
          "state": {
            "_view_name": "LayoutView",
            "grid_template_rows": null,
            "right": null,
            "justify_content": null,
            "_view_module": "@jupyter-widgets/base",
            "overflow": null,
            "_model_module_version": "1.2.0",
            "_view_count": null,
            "flex_flow": null,
            "width": null,
            "min_width": null,
            "border": null,
            "align_items": null,
            "bottom": null,
            "_model_module": "@jupyter-widgets/base",
            "top": null,
            "grid_column": null,
            "overflow_y": null,
            "overflow_x": null,
            "grid_auto_flow": null,
            "grid_area": null,
            "grid_template_columns": null,
            "flex": null,
            "_model_name": "LayoutModel",
            "justify_items": null,
            "grid_row": null,
            "max_height": null,
            "align_content": null,
            "visibility": null,
            "align_self": null,
            "height": null,
            "min_height": null,
            "padding": null,
            "grid_auto_rows": null,
            "grid_gap": null,
            "max_width": null,
            "order": null,
            "_view_module_version": "1.2.0",
            "grid_template_areas": null,
            "object_position": null,
            "object_fit": null,
            "grid_auto_columns": null,
            "margin": null,
            "display": null,
            "left": null
          }
        },
        "53dcb79a0b304be3b557e914a2f1a8bd": {
          "model_module": "@jupyter-widgets/controls",
          "model_name": "FloatProgressModel",
          "state": {
            "_view_name": "ProgressView",
            "style": "IPY_MODEL_8d32725a197e420eb59ac7a3f85b703d",
            "_dom_classes": [],
            "description": "",
            "_model_name": "FloatProgressModel",
            "bar_style": "success",
            "max": 29515,
            "_view_module": "@jupyter-widgets/controls",
            "_model_module_version": "1.5.0",
            "value": 29515,
            "_view_count": null,
            "_view_module_version": "1.5.0",
            "orientation": "horizontal",
            "min": 0,
            "description_tooltip": null,
            "_model_module": "@jupyter-widgets/controls",
            "layout": "IPY_MODEL_a80e0b19c0114994b43fd82660f9d200"
          }
        },
        "2a6051e2e82e41be8995cddf35c854f6": {
          "model_module": "@jupyter-widgets/controls",
          "model_name": "HTMLModel",
          "state": {
            "_view_name": "HTMLView",
            "style": "IPY_MODEL_8770200b7ec84e0b840225ca2580404f",
            "_dom_classes": [],
            "description": "",
            "_model_name": "HTMLModel",
            "placeholder": "​",
            "_view_module": "@jupyter-widgets/controls",
            "_model_module_version": "1.5.0",
            "value": " 29696/? [00:00&lt;00:00, 59204.32it/s]",
            "_view_count": null,
            "_view_module_version": "1.5.0",
            "description_tooltip": null,
            "_model_module": "@jupyter-widgets/controls",
            "layout": "IPY_MODEL_dfd3ea20bed54eafbfd02ddb62a85432"
          }
        },
        "8d32725a197e420eb59ac7a3f85b703d": {
          "model_module": "@jupyter-widgets/controls",
          "model_name": "ProgressStyleModel",
          "state": {
            "_view_name": "StyleView",
            "_model_name": "ProgressStyleModel",
            "description_width": "initial",
            "_view_module": "@jupyter-widgets/base",
            "_model_module_version": "1.5.0",
            "_view_count": null,
            "_view_module_version": "1.2.0",
            "bar_color": null,
            "_model_module": "@jupyter-widgets/controls"
          }
        },
        "a80e0b19c0114994b43fd82660f9d200": {
          "model_module": "@jupyter-widgets/base",
          "model_name": "LayoutModel",
          "state": {
            "_view_name": "LayoutView",
            "grid_template_rows": null,
            "right": null,
            "justify_content": null,
            "_view_module": "@jupyter-widgets/base",
            "overflow": null,
            "_model_module_version": "1.2.0",
            "_view_count": null,
            "flex_flow": null,
            "width": null,
            "min_width": null,
            "border": null,
            "align_items": null,
            "bottom": null,
            "_model_module": "@jupyter-widgets/base",
            "top": null,
            "grid_column": null,
            "overflow_y": null,
            "overflow_x": null,
            "grid_auto_flow": null,
            "grid_area": null,
            "grid_template_columns": null,
            "flex": null,
            "_model_name": "LayoutModel",
            "justify_items": null,
            "grid_row": null,
            "max_height": null,
            "align_content": null,
            "visibility": null,
            "align_self": null,
            "height": null,
            "min_height": null,
            "padding": null,
            "grid_auto_rows": null,
            "grid_gap": null,
            "max_width": null,
            "order": null,
            "_view_module_version": "1.2.0",
            "grid_template_areas": null,
            "object_position": null,
            "object_fit": null,
            "grid_auto_columns": null,
            "margin": null,
            "display": null,
            "left": null
          }
        },
        "8770200b7ec84e0b840225ca2580404f": {
          "model_module": "@jupyter-widgets/controls",
          "model_name": "DescriptionStyleModel",
          "state": {
            "_view_name": "StyleView",
            "_model_name": "DescriptionStyleModel",
            "description_width": "",
            "_view_module": "@jupyter-widgets/base",
            "_model_module_version": "1.5.0",
            "_view_count": null,
            "_view_module_version": "1.2.0",
            "_model_module": "@jupyter-widgets/controls"
          }
        },
        "dfd3ea20bed54eafbfd02ddb62a85432": {
          "model_module": "@jupyter-widgets/base",
          "model_name": "LayoutModel",
          "state": {
            "_view_name": "LayoutView",
            "grid_template_rows": null,
            "right": null,
            "justify_content": null,
            "_view_module": "@jupyter-widgets/base",
            "overflow": null,
            "_model_module_version": "1.2.0",
            "_view_count": null,
            "flex_flow": null,
            "width": null,
            "min_width": null,
            "border": null,
            "align_items": null,
            "bottom": null,
            "_model_module": "@jupyter-widgets/base",
            "top": null,
            "grid_column": null,
            "overflow_y": null,
            "overflow_x": null,
            "grid_auto_flow": null,
            "grid_area": null,
            "grid_template_columns": null,
            "flex": null,
            "_model_name": "LayoutModel",
            "justify_items": null,
            "grid_row": null,
            "max_height": null,
            "align_content": null,
            "visibility": null,
            "align_self": null,
            "height": null,
            "min_height": null,
            "padding": null,
            "grid_auto_rows": null,
            "grid_gap": null,
            "max_width": null,
            "order": null,
            "_view_module_version": "1.2.0",
            "grid_template_areas": null,
            "object_position": null,
            "object_fit": null,
            "grid_auto_columns": null,
            "margin": null,
            "display": null,
            "left": null
          }
        },
        "1e300159bd0f47e9890fd5549c3dd036": {
          "model_module": "@jupyter-widgets/controls",
          "model_name": "HBoxModel",
          "state": {
            "_view_name": "HBoxView",
            "_dom_classes": [],
            "_model_name": "HBoxModel",
            "_view_module": "@jupyter-widgets/controls",
            "_model_module_version": "1.5.0",
            "_view_count": null,
            "_view_module_version": "1.5.0",
            "box_style": "",
            "layout": "IPY_MODEL_b34498bfd8e54251964d924dea5203e9",
            "_model_module": "@jupyter-widgets/controls",
            "children": [
              "IPY_MODEL_09f53f465fc44efe851dd85d4cc63781",
              "IPY_MODEL_3a61e8fb04464c249528c67a75c418a3"
            ]
          }
        },
        "b34498bfd8e54251964d924dea5203e9": {
          "model_module": "@jupyter-widgets/base",
          "model_name": "LayoutModel",
          "state": {
            "_view_name": "LayoutView",
            "grid_template_rows": null,
            "right": null,
            "justify_content": null,
            "_view_module": "@jupyter-widgets/base",
            "overflow": null,
            "_model_module_version": "1.2.0",
            "_view_count": null,
            "flex_flow": null,
            "width": null,
            "min_width": null,
            "border": null,
            "align_items": null,
            "bottom": null,
            "_model_module": "@jupyter-widgets/base",
            "top": null,
            "grid_column": null,
            "overflow_y": null,
            "overflow_x": null,
            "grid_auto_flow": null,
            "grid_area": null,
            "grid_template_columns": null,
            "flex": null,
            "_model_name": "LayoutModel",
            "justify_items": null,
            "grid_row": null,
            "max_height": null,
            "align_content": null,
            "visibility": null,
            "align_self": null,
            "height": null,
            "min_height": null,
            "padding": null,
            "grid_auto_rows": null,
            "grid_gap": null,
            "max_width": null,
            "order": null,
            "_view_module_version": "1.2.0",
            "grid_template_areas": null,
            "object_position": null,
            "object_fit": null,
            "grid_auto_columns": null,
            "margin": null,
            "display": null,
            "left": null
          }
        },
        "09f53f465fc44efe851dd85d4cc63781": {
          "model_module": "@jupyter-widgets/controls",
          "model_name": "FloatProgressModel",
          "state": {
            "_view_name": "ProgressView",
            "style": "IPY_MODEL_4769b6b433b54643803002ddacc5090c",
            "_dom_classes": [],
            "description": "",
            "_model_name": "FloatProgressModel",
            "bar_style": "success",
            "max": 4422102,
            "_view_module": "@jupyter-widgets/controls",
            "_model_module_version": "1.5.0",
            "value": 4422102,
            "_view_count": null,
            "_view_module_version": "1.5.0",
            "orientation": "horizontal",
            "min": 0,
            "description_tooltip": null,
            "_model_module": "@jupyter-widgets/controls",
            "layout": "IPY_MODEL_495d3729029a45ce965fbbb9f2bb940d"
          }
        },
        "3a61e8fb04464c249528c67a75c418a3": {
          "model_module": "@jupyter-widgets/controls",
          "model_name": "HTMLModel",
          "state": {
            "_view_name": "HTMLView",
            "style": "IPY_MODEL_6c60f79a80514cda8ca0550add0fba5d",
            "_dom_classes": [],
            "description": "",
            "_model_name": "HTMLModel",
            "placeholder": "​",
            "_view_module": "@jupyter-widgets/controls",
            "_model_module_version": "1.5.0",
            "value": " 4422656/? [05:56&lt;00:00, 12416.43it/s]",
            "_view_count": null,
            "_view_module_version": "1.5.0",
            "description_tooltip": null,
            "_model_module": "@jupyter-widgets/controls",
            "layout": "IPY_MODEL_23f4305715c6461c92b08b3681745fe4"
          }
        },
        "4769b6b433b54643803002ddacc5090c": {
          "model_module": "@jupyter-widgets/controls",
          "model_name": "ProgressStyleModel",
          "state": {
            "_view_name": "StyleView",
            "_model_name": "ProgressStyleModel",
            "description_width": "initial",
            "_view_module": "@jupyter-widgets/base",
            "_model_module_version": "1.5.0",
            "_view_count": null,
            "_view_module_version": "1.2.0",
            "bar_color": null,
            "_model_module": "@jupyter-widgets/controls"
          }
        },
        "495d3729029a45ce965fbbb9f2bb940d": {
          "model_module": "@jupyter-widgets/base",
          "model_name": "LayoutModel",
          "state": {
            "_view_name": "LayoutView",
            "grid_template_rows": null,
            "right": null,
            "justify_content": null,
            "_view_module": "@jupyter-widgets/base",
            "overflow": null,
            "_model_module_version": "1.2.0",
            "_view_count": null,
            "flex_flow": null,
            "width": null,
            "min_width": null,
            "border": null,
            "align_items": null,
            "bottom": null,
            "_model_module": "@jupyter-widgets/base",
            "top": null,
            "grid_column": null,
            "overflow_y": null,
            "overflow_x": null,
            "grid_auto_flow": null,
            "grid_area": null,
            "grid_template_columns": null,
            "flex": null,
            "_model_name": "LayoutModel",
            "justify_items": null,
            "grid_row": null,
            "max_height": null,
            "align_content": null,
            "visibility": null,
            "align_self": null,
            "height": null,
            "min_height": null,
            "padding": null,
            "grid_auto_rows": null,
            "grid_gap": null,
            "max_width": null,
            "order": null,
            "_view_module_version": "1.2.0",
            "grid_template_areas": null,
            "object_position": null,
            "object_fit": null,
            "grid_auto_columns": null,
            "margin": null,
            "display": null,
            "left": null
          }
        },
        "6c60f79a80514cda8ca0550add0fba5d": {
          "model_module": "@jupyter-widgets/controls",
          "model_name": "DescriptionStyleModel",
          "state": {
            "_view_name": "StyleView",
            "_model_name": "DescriptionStyleModel",
            "description_width": "",
            "_view_module": "@jupyter-widgets/base",
            "_model_module_version": "1.5.0",
            "_view_count": null,
            "_view_module_version": "1.2.0",
            "_model_module": "@jupyter-widgets/controls"
          }
        },
        "23f4305715c6461c92b08b3681745fe4": {
          "model_module": "@jupyter-widgets/base",
          "model_name": "LayoutModel",
          "state": {
            "_view_name": "LayoutView",
            "grid_template_rows": null,
            "right": null,
            "justify_content": null,
            "_view_module": "@jupyter-widgets/base",
            "overflow": null,
            "_model_module_version": "1.2.0",
            "_view_count": null,
            "flex_flow": null,
            "width": null,
            "min_width": null,
            "border": null,
            "align_items": null,
            "bottom": null,
            "_model_module": "@jupyter-widgets/base",
            "top": null,
            "grid_column": null,
            "overflow_y": null,
            "overflow_x": null,
            "grid_auto_flow": null,
            "grid_area": null,
            "grid_template_columns": null,
            "flex": null,
            "_model_name": "LayoutModel",
            "justify_items": null,
            "grid_row": null,
            "max_height": null,
            "align_content": null,
            "visibility": null,
            "align_self": null,
            "height": null,
            "min_height": null,
            "padding": null,
            "grid_auto_rows": null,
            "grid_gap": null,
            "max_width": null,
            "order": null,
            "_view_module_version": "1.2.0",
            "grid_template_areas": null,
            "object_position": null,
            "object_fit": null,
            "grid_auto_columns": null,
            "margin": null,
            "display": null,
            "left": null
          }
        },
        "2c77c5016f0c402bb3db69275190908e": {
          "model_module": "@jupyter-widgets/controls",
          "model_name": "HBoxModel",
          "state": {
            "_view_name": "HBoxView",
            "_dom_classes": [],
            "_model_name": "HBoxModel",
            "_view_module": "@jupyter-widgets/controls",
            "_model_module_version": "1.5.0",
            "_view_count": null,
            "_view_module_version": "1.5.0",
            "box_style": "",
            "layout": "IPY_MODEL_b34df9a4b17b42cb858f12c3be140958",
            "_model_module": "@jupyter-widgets/controls",
            "children": [
              "IPY_MODEL_774038b106034c57afc86607f92821ff",
              "IPY_MODEL_1e1afc495df9459ea0c8a1bf586983be"
            ]
          }
        },
        "b34df9a4b17b42cb858f12c3be140958": {
          "model_module": "@jupyter-widgets/base",
          "model_name": "LayoutModel",
          "state": {
            "_view_name": "LayoutView",
            "grid_template_rows": null,
            "right": null,
            "justify_content": null,
            "_view_module": "@jupyter-widgets/base",
            "overflow": null,
            "_model_module_version": "1.2.0",
            "_view_count": null,
            "flex_flow": null,
            "width": null,
            "min_width": null,
            "border": null,
            "align_items": null,
            "bottom": null,
            "_model_module": "@jupyter-widgets/base",
            "top": null,
            "grid_column": null,
            "overflow_y": null,
            "overflow_x": null,
            "grid_auto_flow": null,
            "grid_area": null,
            "grid_template_columns": null,
            "flex": null,
            "_model_name": "LayoutModel",
            "justify_items": null,
            "grid_row": null,
            "max_height": null,
            "align_content": null,
            "visibility": null,
            "align_self": null,
            "height": null,
            "min_height": null,
            "padding": null,
            "grid_auto_rows": null,
            "grid_gap": null,
            "max_width": null,
            "order": null,
            "_view_module_version": "1.2.0",
            "grid_template_areas": null,
            "object_position": null,
            "object_fit": null,
            "grid_auto_columns": null,
            "margin": null,
            "display": null,
            "left": null
          }
        },
        "774038b106034c57afc86607f92821ff": {
          "model_module": "@jupyter-widgets/controls",
          "model_name": "FloatProgressModel",
          "state": {
            "_view_name": "ProgressView",
            "style": "IPY_MODEL_855376bbc0d1499fa5e66a52b72649f0",
            "_dom_classes": [],
            "description": "",
            "_model_name": "FloatProgressModel",
            "bar_style": "success",
            "max": 5148,
            "_view_module": "@jupyter-widgets/controls",
            "_model_module_version": "1.5.0",
            "value": 5148,
            "_view_count": null,
            "_view_module_version": "1.5.0",
            "orientation": "horizontal",
            "min": 0,
            "description_tooltip": null,
            "_model_module": "@jupyter-widgets/controls",
            "layout": "IPY_MODEL_a9cca5a45c4f4ca4b6512f7194fd20a6"
          }
        },
        "1e1afc495df9459ea0c8a1bf586983be": {
          "model_module": "@jupyter-widgets/controls",
          "model_name": "HTMLModel",
          "state": {
            "_view_name": "HTMLView",
            "style": "IPY_MODEL_46fe34739bae4c95a896b06921416eab",
            "_dom_classes": [],
            "description": "",
            "_model_name": "HTMLModel",
            "placeholder": "​",
            "_view_module": "@jupyter-widgets/controls",
            "_model_module_version": "1.5.0",
            "value": " 6144/? [00:00&lt;00:00, 18219.81it/s]",
            "_view_count": null,
            "_view_module_version": "1.5.0",
            "description_tooltip": null,
            "_model_module": "@jupyter-widgets/controls",
            "layout": "IPY_MODEL_4266ea66bc314d119cf6c2cb499aa98c"
          }
        },
        "855376bbc0d1499fa5e66a52b72649f0": {
          "model_module": "@jupyter-widgets/controls",
          "model_name": "ProgressStyleModel",
          "state": {
            "_view_name": "StyleView",
            "_model_name": "ProgressStyleModel",
            "description_width": "initial",
            "_view_module": "@jupyter-widgets/base",
            "_model_module_version": "1.5.0",
            "_view_count": null,
            "_view_module_version": "1.2.0",
            "bar_color": null,
            "_model_module": "@jupyter-widgets/controls"
          }
        },
        "a9cca5a45c4f4ca4b6512f7194fd20a6": {
          "model_module": "@jupyter-widgets/base",
          "model_name": "LayoutModel",
          "state": {
            "_view_name": "LayoutView",
            "grid_template_rows": null,
            "right": null,
            "justify_content": null,
            "_view_module": "@jupyter-widgets/base",
            "overflow": null,
            "_model_module_version": "1.2.0",
            "_view_count": null,
            "flex_flow": null,
            "width": null,
            "min_width": null,
            "border": null,
            "align_items": null,
            "bottom": null,
            "_model_module": "@jupyter-widgets/base",
            "top": null,
            "grid_column": null,
            "overflow_y": null,
            "overflow_x": null,
            "grid_auto_flow": null,
            "grid_area": null,
            "grid_template_columns": null,
            "flex": null,
            "_model_name": "LayoutModel",
            "justify_items": null,
            "grid_row": null,
            "max_height": null,
            "align_content": null,
            "visibility": null,
            "align_self": null,
            "height": null,
            "min_height": null,
            "padding": null,
            "grid_auto_rows": null,
            "grid_gap": null,
            "max_width": null,
            "order": null,
            "_view_module_version": "1.2.0",
            "grid_template_areas": null,
            "object_position": null,
            "object_fit": null,
            "grid_auto_columns": null,
            "margin": null,
            "display": null,
            "left": null
          }
        },
        "46fe34739bae4c95a896b06921416eab": {
          "model_module": "@jupyter-widgets/controls",
          "model_name": "DescriptionStyleModel",
          "state": {
            "_view_name": "StyleView",
            "_model_name": "DescriptionStyleModel",
            "description_width": "",
            "_view_module": "@jupyter-widgets/base",
            "_model_module_version": "1.5.0",
            "_view_count": null,
            "_view_module_version": "1.2.0",
            "_model_module": "@jupyter-widgets/controls"
          }
        },
        "4266ea66bc314d119cf6c2cb499aa98c": {
          "model_module": "@jupyter-widgets/base",
          "model_name": "LayoutModel",
          "state": {
            "_view_name": "LayoutView",
            "grid_template_rows": null,
            "right": null,
            "justify_content": null,
            "_view_module": "@jupyter-widgets/base",
            "overflow": null,
            "_model_module_version": "1.2.0",
            "_view_count": null,
            "flex_flow": null,
            "width": null,
            "min_width": null,
            "border": null,
            "align_items": null,
            "bottom": null,
            "_model_module": "@jupyter-widgets/base",
            "top": null,
            "grid_column": null,
            "overflow_y": null,
            "overflow_x": null,
            "grid_auto_flow": null,
            "grid_area": null,
            "grid_template_columns": null,
            "flex": null,
            "_model_name": "LayoutModel",
            "justify_items": null,
            "grid_row": null,
            "max_height": null,
            "align_content": null,
            "visibility": null,
            "align_self": null,
            "height": null,
            "min_height": null,
            "padding": null,
            "grid_auto_rows": null,
            "grid_gap": null,
            "max_width": null,
            "order": null,
            "_view_module_version": "1.2.0",
            "grid_template_areas": null,
            "object_position": null,
            "object_fit": null,
            "grid_auto_columns": null,
            "margin": null,
            "display": null,
            "left": null
          }
        }
      }
    }
  },
  "cells": [
    {
      "cell_type": "markdown",
      "metadata": {
        "id": "view-in-github",
        "colab_type": "text"
      },
      "source": [
        "<a href=\"https://colab.research.google.com/github/ashokreddy123/session3_pytoroch/blob/main/session3_assignment_GPU.ipynb\" target=\"_parent\"><img src=\"https://colab.research.google.com/assets/colab-badge.svg\" alt=\"Open In Colab\"/></a>"
      ]
    },
    {
      "cell_type": "code",
      "metadata": {
        "id": "bPXAvX8SUX4e"
      },
      "source": [
        "# importing the required libraries\n",
        "import torch\n",
        "import torchvision\n",
        "import torchvision.transforms as transforms\n",
        "import numpy as np"
      ],
      "execution_count": 1,
      "outputs": []
    },
    {
      "cell_type": "code",
      "metadata": {
        "colab": {
          "base_uri": "https://localhost:8080/",
          "height": 609,
          "referenced_widgets": [
            "721139094b374130940d6cb5ad715996",
            "4d82a87259ae427a8786d37f71977b09",
            "f7123f09a16b43dab588173c52091761",
            "d8681cc0345d49fd869836249aad3f10",
            "54c90d9d2b97460daef37f902732754c",
            "c26b992afac44c23b9609738fc288eb9",
            "0e89cb45c4ce439ca15703ad88564d54",
            "2038e7286fc748529d088a7a1bf863d1",
            "ab34f9d0e86241398c7d6fe74cacb037",
            "e47d035cfcfa49e3bc65ded44dda5853",
            "53dcb79a0b304be3b557e914a2f1a8bd",
            "2a6051e2e82e41be8995cddf35c854f6",
            "8d32725a197e420eb59ac7a3f85b703d",
            "a80e0b19c0114994b43fd82660f9d200",
            "8770200b7ec84e0b840225ca2580404f",
            "dfd3ea20bed54eafbfd02ddb62a85432",
            "1e300159bd0f47e9890fd5549c3dd036",
            "b34498bfd8e54251964d924dea5203e9",
            "09f53f465fc44efe851dd85d4cc63781",
            "3a61e8fb04464c249528c67a75c418a3",
            "4769b6b433b54643803002ddacc5090c",
            "495d3729029a45ce965fbbb9f2bb940d",
            "6c60f79a80514cda8ca0550add0fba5d",
            "23f4305715c6461c92b08b3681745fe4",
            "2c77c5016f0c402bb3db69275190908e",
            "b34df9a4b17b42cb858f12c3be140958",
            "774038b106034c57afc86607f92821ff",
            "1e1afc495df9459ea0c8a1bf586983be",
            "855376bbc0d1499fa5e66a52b72649f0",
            "a9cca5a45c4f4ca4b6512f7194fd20a6",
            "46fe34739bae4c95a896b06921416eab",
            "4266ea66bc314d119cf6c2cb499aa98c"
          ]
        },
        "id": "9pVevezXVA1l",
        "outputId": "3e768ce7-53f3-4114-a6b5-16fbac67dd89"
      },
      "source": [
        "# downloading the FashionMnist dataset\n",
        "\n",
        "train_set = torchvision.datasets.FashionMNIST(\n",
        "    root='./data'\n",
        "    ,train=True\n",
        "    ,download=True\n",
        "    ,transform=transforms.Compose([\n",
        "        transforms.ToTensor()\n",
        "    ])\n",
        ")\n",
        "\n"
      ],
      "execution_count": 2,
      "outputs": [
        {
          "output_type": "stream",
          "text": [
            "Downloading http://fashion-mnist.s3-website.eu-central-1.amazonaws.com/train-images-idx3-ubyte.gz\n",
            "Downloading http://fashion-mnist.s3-website.eu-central-1.amazonaws.com/train-images-idx3-ubyte.gz to ./data/FashionMNIST/raw/train-images-idx3-ubyte.gz\n"
          ],
          "name": "stdout"
        },
        {
          "output_type": "display_data",
          "data": {
            "application/vnd.jupyter.widget-view+json": {
              "model_id": "721139094b374130940d6cb5ad715996",
              "version_minor": 0,
              "version_major": 2
            },
            "text/plain": [
              "HBox(children=(FloatProgress(value=0.0, max=26421880.0), HTML(value='')))"
            ]
          },
          "metadata": {
            "tags": []
          }
        },
        {
          "output_type": "stream",
          "text": [
            "\n",
            "Extracting ./data/FashionMNIST/raw/train-images-idx3-ubyte.gz to ./data/FashionMNIST/raw\n",
            "\n",
            "Downloading http://fashion-mnist.s3-website.eu-central-1.amazonaws.com/train-labels-idx1-ubyte.gz\n",
            "Downloading http://fashion-mnist.s3-website.eu-central-1.amazonaws.com/train-labels-idx1-ubyte.gz to ./data/FashionMNIST/raw/train-labels-idx1-ubyte.gz\n"
          ],
          "name": "stdout"
        },
        {
          "output_type": "display_data",
          "data": {
            "application/vnd.jupyter.widget-view+json": {
              "model_id": "ab34f9d0e86241398c7d6fe74cacb037",
              "version_minor": 0,
              "version_major": 2
            },
            "text/plain": [
              "HBox(children=(FloatProgress(value=0.0, max=29515.0), HTML(value='')))"
            ]
          },
          "metadata": {
            "tags": []
          }
        },
        {
          "output_type": "stream",
          "text": [
            "\n",
            "Extracting ./data/FashionMNIST/raw/train-labels-idx1-ubyte.gz to ./data/FashionMNIST/raw\n",
            "\n",
            "Downloading http://fashion-mnist.s3-website.eu-central-1.amazonaws.com/t10k-images-idx3-ubyte.gz\n",
            "Downloading http://fashion-mnist.s3-website.eu-central-1.amazonaws.com/t10k-images-idx3-ubyte.gz to ./data/FashionMNIST/raw/t10k-images-idx3-ubyte.gz\n"
          ],
          "name": "stdout"
        },
        {
          "output_type": "display_data",
          "data": {
            "application/vnd.jupyter.widget-view+json": {
              "model_id": "1e300159bd0f47e9890fd5549c3dd036",
              "version_minor": 0,
              "version_major": 2
            },
            "text/plain": [
              "HBox(children=(FloatProgress(value=0.0, max=4422102.0), HTML(value='')))"
            ]
          },
          "metadata": {
            "tags": []
          }
        },
        {
          "output_type": "stream",
          "text": [
            "\n",
            "Extracting ./data/FashionMNIST/raw/t10k-images-idx3-ubyte.gz to ./data/FashionMNIST/raw\n",
            "\n",
            "Downloading http://fashion-mnist.s3-website.eu-central-1.amazonaws.com/t10k-labels-idx1-ubyte.gz\n",
            "Downloading http://fashion-mnist.s3-website.eu-central-1.amazonaws.com/t10k-labels-idx1-ubyte.gz to ./data/FashionMNIST/raw/t10k-labels-idx1-ubyte.gz\n"
          ],
          "name": "stdout"
        },
        {
          "output_type": "display_data",
          "data": {
            "application/vnd.jupyter.widget-view+json": {
              "model_id": "2c77c5016f0c402bb3db69275190908e",
              "version_minor": 0,
              "version_major": 2
            },
            "text/plain": [
              "HBox(children=(FloatProgress(value=0.0, max=5148.0), HTML(value='')))"
            ]
          },
          "metadata": {
            "tags": []
          }
        },
        {
          "output_type": "stream",
          "text": [
            "\n",
            "Extracting ./data/FashionMNIST/raw/t10k-labels-idx1-ubyte.gz to ./data/FashionMNIST/raw\n",
            "\n",
            "Processing...\n",
            "Done!\n"
          ],
          "name": "stdout"
        },
        {
          "output_type": "stream",
          "text": [
            "/usr/local/lib/python3.7/dist-packages/torchvision/datasets/mnist.py:502: UserWarning: The given NumPy array is not writeable, and PyTorch does not support non-writeable tensors. This means you can write to the underlying (supposedly non-writeable) NumPy array using the tensor. You may want to copy the array to protect its data or make it writeable before converting it to a tensor. This type of warning will be suppressed for the rest of this program. (Triggered internally at  /pytorch/torch/csrc/utils/tensor_numpy.cpp:143.)\n",
            "  return torch.from_numpy(parsed.astype(m[2], copy=False)).view(*s)\n"
          ],
          "name": "stderr"
        }
      ]
    },
    {
      "cell_type": "code",
      "metadata": {
        "id": "2XsHw3OKVRn7"
      },
      "source": [
        "batch_size = 100\n",
        "train_loader = torch.utils.data.DataLoader(train_set, batch_size=100)"
      ],
      "execution_count": 185,
      "outputs": []
    },
    {
      "cell_type": "code",
      "metadata": {
        "id": "_jJcGhwWVK96"
      },
      "source": [
        "def get_num_correct(preds, labels):\n",
        "  return preds.argmax(dim=1).eq(labels).sum().item()"
      ],
      "execution_count": 4,
      "outputs": []
    },
    {
      "cell_type": "code",
      "metadata": {
        "id": "KaD4_Jno8GGS"
      },
      "source": [
        ""
      ],
      "execution_count": null,
      "outputs": []
    },
    {
      "cell_type": "code",
      "metadata": {
        "id": "8znOwUR_VakO"
      },
      "source": [
        "# dividing the data into training and validation data\n",
        "# out of 60,000 images, 59,000 are considered for training and 1000 for validation set\n",
        "count  = 0\n",
        "training_data = []\n",
        "validation_data = []\n",
        "for batch in train_loader:\n",
        "  count += 1\n",
        "  if(count<591):\n",
        "    training_data.append(batch)\n",
        "  else:\n",
        "    validation_data.append(batch)"
      ],
      "execution_count": 5,
      "outputs": []
    },
    {
      "cell_type": "code",
      "metadata": {
        "colab": {
          "base_uri": "https://localhost:8080/"
        },
        "id": "6pJiW5pmNJ2p",
        "outputId": "4f17a2ed-dbd9-428d-cb24-444ccf6cab0a"
      },
      "source": [
        "print(\"training set size\",len(training_data)*batch_size)\n",
        "print(\"validation set size\",len(validation_data)*batch_size)"
      ],
      "execution_count": 195,
      "outputs": [
        {
          "output_type": "stream",
          "text": [
            "training set size 59000\n",
            "validation set size 1000\n"
          ],
          "name": "stdout"
        }
      ]
    },
    {
      "cell_type": "code",
      "metadata": {
        "id": "Z0I5V6YkVkFT"
      },
      "source": [
        "# All the convolutional layers are of 3x3 kernel size\n",
        "# All the maxpool layers are of 2x2 size with stride 2\n",
        "\n",
        "import torch.nn.functional as F\n",
        "import torch.nn as nn\n",
        "class Network(nn.Module):\n",
        "    def __init__(self):\n",
        "        super().__init__()\n",
        "        \n",
        "        self.conv1 = nn.Conv2d(in_channels=1, out_channels=8, kernel_size=3)\n",
        "        self.conv2 = nn.Conv2d(in_channels=8, out_channels=16, kernel_size=3)\n",
        "        self.conv3 = nn.Conv2d(in_channels=16, out_channels=32, kernel_size=3)\n",
        "        self.conv4 = nn.Conv2d(in_channels=32, out_channels=64, kernel_size=3)\n",
        "        #self.conv2 = nn.Conv2d(in_channels=6, out_channels=12, kernel_size=5)\n",
        "\n",
        "        self.fc1 = nn.Linear(in_features=64 * 4 * 4, out_features=64*4)\n",
        "        self.fc2 = nn.Linear(in_features=64*4, out_features=64)\n",
        "        self.out1 = nn.Linear(in_features=64, out_features=10) # This is for the number output from MNIST data\n",
        "        self.out2 = nn.Linear(in_features=20, out_features=64) # This layer stacks the number output from MNIST data set and one hot code of random number\n",
        "        self.out3 = nn.Linear(in_features=64, out_features=20) # The sum output(of size 20)\n",
        "\n",
        "    def forward(self, t, rand_num):\n",
        "       \n",
        "        t = self.conv1(t)\n",
        "        t = F.relu(t)\n",
        "        t = self.conv2(t)\n",
        "        t = F.relu(t)\n",
        "        #t = t.cuda()\n",
        "        t = F.max_pool2d(t, kernel_size=2, stride=2)\n",
        "        #t = t.cuda()\n",
        "\n",
        "        # (3) hidden conv layer\n",
        "        t = self.conv3(t)\n",
        "        t = F.relu(t)\n",
        "        t = self.conv4(t)\n",
        "        t = F.relu(t)\n",
        "        t = F.max_pool2d(t, kernel_size=2, stride=2)\n",
        "\n",
        "        # (4) hidden linear layer\n",
        "        t = t.reshape(-1, 64 * 4 * 4)\n",
        "        t = self.fc1(t)\n",
        "        t = F.relu(t)\n",
        "\n",
        "        # (5) hidden linear layer\n",
        "        t = self.fc2(t)\n",
        "        t = F.relu(t)\n",
        "\n",
        "        # (6) output layer\n",
        "        t1 = self.out1(t)\n",
        "        #print(t1)\n",
        "        t2 = t1.argmax(dim=1) # The position where MNIST ouput is max is taken\n",
        "        #print(\"1_t2.shape\",t2.shape)\n",
        "        t2 = F.one_hot(t2, num_classes=10) # The MNIST output is converted to one hot encoding\n",
        "        #print(\"2_t2.shape\",t2.shape)\n",
        "        t_rand = F.one_hot(torch.tensor(rand_num),num_classes=10) # the random output is converted to one hot encoding\n",
        "        #print(\"3_t_rand.shape\",t_rand.shape)\n",
        "        #t_rand = t_rand.unsqueeze(0)\n",
        "        t_both = torch.stack((t2,t_rand),dim=1) # The MNIST output encoding and random output encoding are stacked \n",
        "        #print(\"4_t_both.shape\",t_both.shape)\n",
        "        t_both = t_both.reshape(batch_size,-1)\n",
        "        #print(\"5_t_both.shape\",t_both.shape)\n",
        "        t_both = torch.tensor(t_both,dtype=torch.float32)\n",
        "        #print(\"6_t_both.shape\",t_both.shape)\n",
        "        #print(t_both.shape)\n",
        "        t_both = self.out2(t_both) # The stacked output is connected to FC layers\n",
        "        t_both = F.relu(t_both)\n",
        "\n",
        "        t_both = self.out3(t_both) # The final sum output of size 20\n",
        "        #t_both = F.relu(t_both)\n",
        "\n",
        "        #t = F.softmax(t)\n",
        "        #t = F.softmax(t, dim=1)\n",
        "        #t = t.argmax(dim=1)\n",
        "\n",
        "        return t1,t_both"
      ],
      "execution_count": 186,
      "outputs": []
    },
    {
      "cell_type": "code",
      "metadata": {
        "id": "4v17MeaoV3zw"
      },
      "source": [
        "import torch.optim as optim\n",
        "network = Network()\n",
        "network = network.cuda() # The network is moved to GPU\n",
        "torch.set_grad_enabled(True)\n",
        "optimizer = optim.Adam(network.parameters(), lr=0.01) # Adam optimier is used\n",
        "#print(optimizer.device)"
      ],
      "execution_count": 188,
      "outputs": []
    },
    {
      "cell_type": "code",
      "metadata": {
        "id": "HDqYlpMq8Jsz"
      },
      "source": [
        "# This is to give MNIST detection and sum accuracy\n",
        "def get_num_correct2(pred1, pred2, labels,rand_num):\n",
        "  return pred1.argmax(dim=1).eq(labels).sum().item(),pred2.argmax(dim=1).eq(labels+rand_num).sum().item() "
      ],
      "execution_count": 126,
      "outputs": []
    },
    {
      "cell_type": "code",
      "metadata": {
        "colab": {
          "base_uri": "https://localhost:8080/"
        },
        "id": "4NFpN4jD1aKO",
        "outputId": "d6c7d673-0773-4ad8-e17a-3827cbd303d0"
      },
      "source": [
        "import random\n",
        "for i in range(50):\n",
        "  total_correct_detect = 0\n",
        "  total_correct_sum = 0\n",
        "  #print(\"total_loss\",total_loss.device)\n",
        "  for batch in training_data:\n",
        "    images,labels = batch\n",
        "    #print(\"cpu_device\",images.device)\n",
        "    images,labels = images.cuda(),labels.cuda() # The data is moved to GPU\n",
        "    #print(labels.shape)\n",
        "    rand_num = []\n",
        "    for j in range(batch_size):\n",
        "      rand_num.append(random.randint(0,9)) # creating the rand numbers of batch size\n",
        "    #print(len(rand_num))\n",
        "    rand_num = torch.tensor(rand_num)\n",
        "    rand_num = rand_num.cuda()\n",
        "    \n",
        "    #print(rand_num.shape)\n",
        "    #rand_num = rand_num.reshape(100,1)\n",
        "    #print(\"Gpu_device\",images.device)\n",
        "    #print(labels)\n",
        "    #preds = network(images)\n",
        "    pred1,pred2 =  network(images,rand_num) # pred1 is predictions of MNIST data and pred2 is for sum \n",
        "    #print(preds.shape)\n",
        "    #print(labels.shape)\n",
        "    #print(preds.device)\n",
        "    #print(\"accuracy :\",get_num_correct(preds, labels))\n",
        "\n",
        "    #loss = F.cross_entropy(preds,labels)\n",
        "    #print(\"labels\",labels)\n",
        "    #print(\"rand_num\",rand_num)\n",
        "    #print('sum',labels+rand_num)\n",
        "    loss1 = F.cross_entropy(pred1,labels) # loss for MNIST detection\n",
        "    loss2 = F.cross_entropy(pred2,labels+rand_num) # loss for sum accuracy\n",
        "    #print(\"loss1\",loss1)\n",
        "    #print(\"loss2\",loss2)\n",
        "    loss = loss1 + loss2 # total loss is the sum of loss\n",
        "    correct_detect, correct_sum = get_num_correct2(pred1, pred2, labels,rand_num)\n",
        "    total_correct_detect += correct_detect\n",
        "    total_correct_sum += correct_sum\n",
        "    total_loss += loss\n",
        "    #print(\"total_loss\",total_loss.device)\n",
        "    #print(\"loss\",loss)\n",
        "    optimizer.zero_grad()\n",
        "    loss.backward()\n",
        "    optimizer.step()\n",
        "\n",
        "  print(\"epoch\",i+1,\"loss\",total_loss,\"detection_accuracy :\",total_correct_detect*100/(len(training_data)*batch_size),\"sum_accuracy :\",total_correct_sum*100/(len(training_data)*batch_size))\n",
        "  #print(\"epoch\",i+1,\"loss\",total_loss,\"accuracy :\",total_correct_sum*100/(len(training_data)*batch_size))"
      ],
      "execution_count": 191,
      "outputs": [
        {
          "output_type": "stream",
          "text": [
            "/usr/local/lib/python3.7/dist-packages/ipykernel_launcher.py:52: UserWarning: To copy construct from a tensor, it is recommended to use sourceTensor.clone().detach() or sourceTensor.clone().detach().requires_grad_(True), rather than torch.tensor(sourceTensor).\n",
            "/usr/local/lib/python3.7/dist-packages/ipykernel_launcher.py:59: UserWarning: To copy construct from a tensor, it is recommended to use sourceTensor.clone().detach() or sourceTensor.clone().detach().requires_grad_(True), rather than torch.tensor(sourceTensor).\n"
          ],
          "name": "stderr"
        },
        {
          "output_type": "stream",
          "text": [
            "epoch 1 loss tensor(174584.8594, device='cuda:0', grad_fn=<AddBackward0>) detection_accuracy : 80.72033898305085 sum_accuracy : 80.6457627118644\n",
            "epoch 2 loss tensor(175137.7500, device='cuda:0', grad_fn=<AddBackward0>) detection_accuracy : 85.61016949152543 sum_accuracy : 85.61016949152543\n",
            "epoch 3 loss tensor(175652.7656, device='cuda:0', grad_fn=<AddBackward0>) detection_accuracy : 86.6728813559322 sum_accuracy : 86.6728813559322\n",
            "epoch 4 loss tensor(176146.2969, device='cuda:0', grad_fn=<AddBackward0>) detection_accuracy : 87.27966101694915 sum_accuracy : 87.27966101694915\n",
            "epoch 5 loss tensor(176635.1250, device='cuda:0', grad_fn=<AddBackward0>) detection_accuracy : 87.4593220338983 sum_accuracy : 87.45423728813559\n",
            "epoch 6 loss tensor(177110.1094, device='cuda:0', grad_fn=<AddBackward0>) detection_accuracy : 87.85593220338983 sum_accuracy : 87.85593220338983\n",
            "epoch 7 loss tensor(177585.2812, device='cuda:0', grad_fn=<AddBackward0>) detection_accuracy : 87.81694915254238 sum_accuracy : 87.81694915254238\n",
            "epoch 8 loss tensor(178050.7188, device='cuda:0', grad_fn=<AddBackward0>) detection_accuracy : 88.14237288135594 sum_accuracy : 88.14237288135594\n",
            "epoch 9 loss tensor(178509.9844, device='cuda:0', grad_fn=<AddBackward0>) detection_accuracy : 88.30847457627118 sum_accuracy : 88.30847457627118\n",
            "epoch 10 loss tensor(178959.3125, device='cuda:0', grad_fn=<AddBackward0>) detection_accuracy : 88.48813559322033 sum_accuracy : 88.47796610169492\n",
            "epoch 11 loss tensor(179396.6094, device='cuda:0', grad_fn=<AddBackward0>) detection_accuracy : 88.93559322033899 sum_accuracy : 88.93559322033899\n",
            "epoch 12 loss tensor(179841.6875, device='cuda:0', grad_fn=<AddBackward0>) detection_accuracy : 88.74915254237288 sum_accuracy : 88.74915254237288\n",
            "epoch 13 loss tensor(180273.4531, device='cuda:0', grad_fn=<AddBackward0>) detection_accuracy : 88.9864406779661 sum_accuracy : 88.9864406779661\n",
            "epoch 14 loss tensor(180721.2188, device='cuda:0', grad_fn=<AddBackward0>) detection_accuracy : 88.7406779661017 sum_accuracy : 88.7406779661017\n",
            "epoch 15 loss tensor(181164.2500, device='cuda:0', grad_fn=<AddBackward0>) detection_accuracy : 88.80338983050848 sum_accuracy : 88.80338983050848\n",
            "epoch 16 loss tensor(181588.4375, device='cuda:0', grad_fn=<AddBackward0>) detection_accuracy : 89.1728813559322 sum_accuracy : 89.1728813559322\n",
            "epoch 17 loss tensor(182015.5469, device='cuda:0', grad_fn=<AddBackward0>) detection_accuracy : 89.22372881355932 sum_accuracy : 89.22372881355932\n",
            "epoch 18 loss tensor(182446.8594, device='cuda:0', grad_fn=<AddBackward0>) detection_accuracy : 89.06610169491526 sum_accuracy : 89.06610169491526\n",
            "epoch 19 loss tensor(182867.7656, device='cuda:0', grad_fn=<AddBackward0>) detection_accuracy : 89.35593220338983 sum_accuracy : 89.35593220338983\n",
            "epoch 20 loss tensor(183304.6562, device='cuda:0', grad_fn=<AddBackward0>) detection_accuracy : 89.01694915254237 sum_accuracy : 89.01694915254237\n",
            "epoch 21 loss tensor(183723.3438, device='cuda:0', grad_fn=<AddBackward0>) detection_accuracy : 89.44067796610169 sum_accuracy : 89.44067796610169\n",
            "epoch 22 loss tensor(184152.5469, device='cuda:0', grad_fn=<AddBackward0>) detection_accuracy : 89.20508474576272 sum_accuracy : 89.20508474576272\n",
            "epoch 23 loss tensor(184581.5469, device='cuda:0', grad_fn=<AddBackward0>) detection_accuracy : 89.12711864406779 sum_accuracy : 89.12711864406779\n",
            "epoch 24 loss tensor(184998.6250, device='cuda:0', grad_fn=<AddBackward0>) detection_accuracy : 89.50847457627118 sum_accuracy : 89.50847457627118\n",
            "epoch 25 loss tensor(185456.5156, device='cuda:0', grad_fn=<AddBackward0>) detection_accuracy : 88.59491525423729 sum_accuracy : 88.59491525423729\n",
            "epoch 26 loss tensor(185867.5000, device='cuda:0', grad_fn=<AddBackward0>) detection_accuracy : 89.78474576271186 sum_accuracy : 89.78474576271186\n",
            "epoch 27 loss tensor(186275.9219, device='cuda:0', grad_fn=<AddBackward0>) detection_accuracy : 89.72033898305085 sum_accuracy : 89.72033898305085\n",
            "epoch 28 loss tensor(186710.1875, device='cuda:0', grad_fn=<AddBackward0>) detection_accuracy : 89.03559322033898 sum_accuracy : 89.03559322033898\n",
            "epoch 29 loss tensor(187125.4688, device='cuda:0', grad_fn=<AddBackward0>) detection_accuracy : 89.61694915254238 sum_accuracy : 89.61694915254238\n",
            "epoch 30 loss tensor(187525.1094, device='cuda:0', grad_fn=<AddBackward0>) detection_accuracy : 89.98305084745763 sum_accuracy : 89.98305084745763\n",
            "epoch 31 loss tensor(187935.6875, device='cuda:0', grad_fn=<AddBackward0>) detection_accuracy : 89.67457627118644 sum_accuracy : 89.67457627118644\n",
            "epoch 32 loss tensor(188346.6094, device='cuda:0', grad_fn=<AddBackward0>) detection_accuracy : 89.81694915254238 sum_accuracy : 89.81694915254238\n",
            "epoch 33 loss tensor(188778.5156, device='cuda:0', grad_fn=<AddBackward0>) detection_accuracy : 89.3135593220339 sum_accuracy : 89.3135593220339\n",
            "epoch 34 loss tensor(189196.3750, device='cuda:0', grad_fn=<AddBackward0>) detection_accuracy : 89.60847457627119 sum_accuracy : 89.60847457627119\n",
            "epoch 35 loss tensor(189614.1406, device='cuda:0', grad_fn=<AddBackward0>) detection_accuracy : 89.60338983050848 sum_accuracy : 89.60338983050848\n",
            "epoch 36 loss tensor(190016.3281, device='cuda:0', grad_fn=<AddBackward0>) detection_accuracy : 89.87288135593221 sum_accuracy : 89.87288135593221\n",
            "epoch 37 loss tensor(190425.3281, device='cuda:0', grad_fn=<AddBackward0>) detection_accuracy : 89.79322033898305 sum_accuracy : 89.79322033898305\n",
            "epoch 38 loss tensor(190848.0312, device='cuda:0', grad_fn=<AddBackward0>) detection_accuracy : 89.48983050847458 sum_accuracy : 89.48983050847458\n",
            "epoch 39 loss tensor(191304.8281, device='cuda:0', grad_fn=<AddBackward0>) detection_accuracy : 88.65423728813559 sum_accuracy : 88.65423728813559\n",
            "epoch 40 loss tensor(191708.6719, device='cuda:0', grad_fn=<AddBackward0>) detection_accuracy : 89.95254237288135 sum_accuracy : 89.95254237288135\n",
            "epoch 41 loss tensor(192100.4688, device='cuda:0', grad_fn=<AddBackward0>) detection_accuracy : 90.26610169491525 sum_accuracy : 90.26610169491525\n",
            "epoch 42 loss tensor(192492.4375, device='cuda:0', grad_fn=<AddBackward0>) detection_accuracy : 90.20169491525424 sum_accuracy : 90.20169491525424\n",
            "epoch 43 loss tensor(192898.8906, device='cuda:0', grad_fn=<AddBackward0>) detection_accuracy : 89.95762711864407 sum_accuracy : 89.95762711864407\n",
            "epoch 44 loss tensor(193290.3906, device='cuda:0', grad_fn=<AddBackward0>) detection_accuracy : 90.2728813559322 sum_accuracy : 90.2728813559322\n",
            "epoch 45 loss tensor(193684.3750, device='cuda:0', grad_fn=<AddBackward0>) detection_accuracy : 90.2271186440678 sum_accuracy : 90.2271186440678\n",
            "epoch 46 loss tensor(194107.6562, device='cuda:0', grad_fn=<AddBackward0>) detection_accuracy : 89.59491525423729 sum_accuracy : 89.59491525423729\n",
            "epoch 47 loss tensor(194519.9219, device='cuda:0', grad_fn=<AddBackward0>) detection_accuracy : 89.85762711864406 sum_accuracy : 89.85762711864406\n",
            "epoch 48 loss tensor(194941.2188, device='cuda:0', grad_fn=<AddBackward0>) detection_accuracy : 89.62711864406779 sum_accuracy : 89.62711864406779\n",
            "epoch 49 loss tensor(195306.2656, device='cuda:0', grad_fn=<AddBackward0>) detection_accuracy : 90.9728813559322 sum_accuracy : 90.9728813559322\n",
            "epoch 50 loss tensor(195694.9531, device='cuda:0', grad_fn=<AddBackward0>) detection_accuracy : 90.37118644067796 sum_accuracy : 90.37118644067796\n"
          ],
          "name": "stdout"
        }
      ]
    },
    {
      "cell_type": "code",
      "metadata": {
        "id": "QivmpCSdWf39"
      },
      "source": [
        ""
      ],
      "execution_count": 195,
      "outputs": []
    },
    {
      "cell_type": "code",
      "metadata": {
        "colab": {
          "base_uri": "https://localhost:8080/"
        },
        "id": "FOHHdha_fBZt",
        "outputId": "dfc514e0-7681-47ab-ce58-df813e6dc4bb"
      },
      "source": [
        "# the accuracy for validation data\n",
        "total_val_detect_correct = 0\n",
        "total_val_sum_correct = 0\n",
        "#total_loss = 0\n",
        "for batch in validation_data:\n",
        "  images,labels = batch\n",
        "  images,labels = images.cuda(),labels.cuda()\n",
        "  #print(labels)\n",
        "  #preds = network(images)\n",
        "  rand_num = []\n",
        "  for j in range(batch_size):\n",
        "    rand_num.append(random.randint(0,9))\n",
        "    #print(len(rand_num))\n",
        "  rand_num = torch.tensor(rand_num)\n",
        "  rand_num = rand_num.cuda()\n",
        "  pred1,pred2 =  network(images,rand_num)\n",
        "  correct_detect, correct_sum = get_num_correct2(pred1, pred2, labels,rand_num)\n",
        "\n",
        "  total_val_detect_correct += correct_detect\n",
        "    \n",
        "  total_val_sum_correct += correct_sum\n",
        "  \n",
        "\n",
        "print(\"val_detect_accuracy :\",total_val_detect_correct*100/(len(validation_data)*batch_size),\"val_sum_accuracy\",total_val_sum_correct*100/(len(validation_data)*batch_size))"
      ],
      "execution_count": 192,
      "outputs": [
        {
          "output_type": "stream",
          "text": [
            "val_detect_accuracy : 87.3 val_sum_accuracy 87.3\n"
          ],
          "name": "stdout"
        },
        {
          "output_type": "stream",
          "text": [
            "/usr/local/lib/python3.7/dist-packages/ipykernel_launcher.py:52: UserWarning: To copy construct from a tensor, it is recommended to use sourceTensor.clone().detach() or sourceTensor.clone().detach().requires_grad_(True), rather than torch.tensor(sourceTensor).\n",
            "/usr/local/lib/python3.7/dist-packages/ipykernel_launcher.py:59: UserWarning: To copy construct from a tensor, it is recommended to use sourceTensor.clone().detach() or sourceTensor.clone().detach().requires_grad_(True), rather than torch.tensor(sourceTensor).\n"
          ],
          "name": "stderr"
        }
      ]
    }
  ]
}